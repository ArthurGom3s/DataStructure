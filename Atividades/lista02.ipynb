{
 "cells": [
  {
   "cell_type": "markdown",
   "metadata": {},
   "source": [
    "# <b>Questão 01 </b>\n",
    "<style>\n",
    "    img {\n",
    "        max-width: 50%;\n",
    "        height: auto;\n",
    "    }\n",
    "</style>\n",
    "<div style=\"text-align: center;\">\n",
    "    <img src=\"imagens/L2-1.jpeg\" alt=\"Descrição da Imagem\">\n",
    "</div>\n"
   ]
  },
  {
   "cell_type": "markdown",
   "metadata": {},
   "source": [
    "# <b>Questão 02 </b>\n",
    "<style>\n",
    "    img {\n",
    "        max-width: 50%;\n",
    "        height: auto;\n",
    "    }\n",
    "</style>\n",
    "<div style=\"text-align: center;\">\n",
    "    <img src=\"imagens/L2-2.jpeg\" alt=\"Descrição da Imagem\">\n",
    "</div>\n"
   ]
  },
  {
   "cell_type": "markdown",
   "metadata": {},
   "source": [
    "# <b>Questão 03 </b>\n",
    "<style>\n",
    "    img {\n",
    "        max-width: 50%;\n",
    "        height: auto;\n",
    "    }\n",
    "</style>\n",
    "<div style=\"text-align: center;\">\n",
    "    <img src=\"imagens/L2-3.jpeg\" alt=\"Descrição da Imagem\">\n",
    "</div>\n"
   ]
  },
  {
   "cell_type": "markdown",
   "metadata": {},
   "source": [
    "# <b>Questão 04 </b>\n",
    "<style>\n",
    "    img {\n",
    "        max-width: 50%;\n",
    "        height: auto;\n",
    "    }\n",
    "</style>\n",
    "<div style=\"text-align: center;\">\n",
    "    <img src=\"imagens/L2-4.jpeg\" alt=\"Descrição da Imagem\">\n",
    "</div>\n"
   ]
  },
  {
   "cell_type": "markdown",
   "metadata": {
    "vscode": {
     "languageId": "plaintext"
    }
   },
   "source": [
    "# <b>Questão 05 </b>\n",
    "<style>\n",
    "    img {\n",
    "        max-width: 50%;\n",
    "        height: auto;\n",
    "    }\n",
    "</style>\n",
    "<div style=\"text-align: center;\">\n",
    "    <img src=\"imagens/L2-5a.jpeg\" alt=\"Descrição da Imagem\">\n",
    "</div>\n",
    "\n",
    "<style>\n",
    "    img {\n",
    "        max-width: 50%;\n",
    "        height: auto;\n",
    "    }\n",
    "</style>\n",
    "<div style=\"text-align: center;\">\n",
    "    <img src=\"imagens/L2-5b.jpeg\" alt=\"Descrição da Imagem\">\n",
    "</div>\n",
    "\n",
    "# <b>Questão 06 </b>\n",
    "<style>\n",
    "    img {\n",
    "        max-width: 50%;\n",
    "        height: auto;\n",
    "    }\n",
    "</style>\n",
    "<div style=\"text-align: center;\">\n",
    "    <img src=\"imagens/L2-6a.jpeg\" alt=\"Descrição da Imagem\">\n",
    "</div>\n",
    "\n",
    "<style>\n",
    "    img {\n",
    "        max-width: 50%;\n",
    "        height: auto;\n",
    "    }\n",
    "</style>\n",
    "<div style=\"text-align: center;\">\n",
    "    <img src=\"imagens/L2-6b.jpeg\" alt=\"Descrição da Imagem\">\n",
    "</div>\n",
    "\n",
    "<style>\n",
    "    img {\n",
    "        max-width: 50%;\n",
    "        height: auto;\n",
    "    }\n",
    "</style>\n",
    "<div style=\"text-align: center;\">\n",
    "    <img src=\"imagens/L2-6c.jpeg\" alt=\"Descrição da Imagem\">\n",
    "</div>"
   ]
  },
  {
   "cell_type": "markdown",
   "metadata": {},
   "source": [
    "# <b> Questão 07"
   ]
  },
  {
   "cell_type": "code",
   "execution_count": null,
   "metadata": {},
   "outputs": [],
   "source": [
    "class TreeNode:\n",
    "    def __init__(self, key):\n",
    "        self.left = None\n",
    "        self.right = None\n",
    "        self.val = key\n",
    "\n",
    "def remove_node(root, key):\n",
    "    if root is None:\n",
    "        return root\n",
    "\n",
    "    # Encontrar o nó a ser removido\n",
    "    if key < root.val:\n",
    "        root.left = remove_node(root.left, key)\n",
    "    elif key > root.val:\n",
    "        root.right = remove_node(root.right, key)\n",
    "    else:\n",
    "        # Caso 1: Nó é uma folha\n",
    "        if root.left is None and root.right is None:\n",
    "            root = None\n",
    "        # Caso 2: Nó tem um único filho\n",
    "        elif root.left is None:\n",
    "            root = root.right\n",
    "        elif root.right is None:\n",
    "            root = root.left\n",
    "        # Caso 3: Nó tem dois filhos\n",
    "        else:\n",
    "            # Encontrar o sucessor em ordem (menor nó na subárvore direita)\n",
    "            successor = find_min(root.right)\n",
    "            root.val = successor.val\n",
    "            root.right = remove_node(root.right, successor.val)\n",
    "    return root\n",
    "\n",
    "def find_min(node):\n",
    "    current = node\n",
    "    while current.left is not None:\n",
    "        current = current.left\n",
    "    return current"
   ]
  },
  {
   "cell_type": "markdown",
   "metadata": {},
   "source": [
    "# <b> Questão 08"
   ]
  },
  {
   "cell_type": "code",
   "execution_count": null,
   "metadata": {},
   "outputs": [],
   "source": [
    "class TreeNode:\n",
    "    def __init__(self, key):\n",
    "        self.left = None\n",
    "        self.right = None\n",
    "        self.val = key\n",
    "\n",
    "def insert_node(root, key):\n",
    "    if root is None:\n",
    "        return TreeNode(key)\n",
    "    else:\n",
    "        if root.val < key:\n",
    "            root.right = insert_node(root.right, key)\n",
    "        else:\n",
    "            root.left = insert_node(root.left, key)\n",
    "    return root\n",
    "\n",
    "def print_tree(root, level=0, prefix=\"Root: \"):\n",
    "    if root is not None:\n",
    "        print(\" \" * (level * 4) + prefix + str(root.val))\n",
    "        if root.left is not None or root.right is not None:\n",
    "            if root.left:\n",
    "                print_tree(root.left, level + 1, \"L--- \")\n",
    "            else:\n",
    "                print(\" \" * ((level + 1) * 4) + \"L--- None\")\n",
    "            if root.right:\n",
    "                print_tree(root.right, level + 1, \"R--- \")\n",
    "            else:\n",
    "                print(\" \" * ((level + 1) * 4) + \"R--- None\")\n",
    "\n",
    "\n",
    "root = None\n",
    "elements = [10, 5, 15, 3, 7, 12, 18]\n",
    "for element in elements:\n",
    "    root = insert_node(root, element)\n",
    "\n",
    "\n",
    "print_tree(root)"
   ]
  }
 ],
 "metadata": {
  "language_info": {
   "name": "python"
  }
 },
 "nbformat": 4,
 "nbformat_minor": 2
}
