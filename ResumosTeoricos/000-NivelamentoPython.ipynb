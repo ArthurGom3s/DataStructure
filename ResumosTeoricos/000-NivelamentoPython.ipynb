{
 "cells": [
  {
   "cell_type": "markdown",
   "metadata": {},
   "source": [
    "<div style=\"background-color: orange; padding: 10px; border-radius: 5px;\">  \n",
    "\n",
    "---\n",
    "---\n",
    "\n",
    "# <center><b> Loops em Python\n",
    "### <center><b>for e while\n",
    "\n",
    "---\n",
    "---\n",
    "</div>"
   ]
  },
  {
   "cell_type": "markdown",
   "metadata": {},
   "source": [
    "### **1. Loop while**\n",
    "\n",
    "O loop while executa um bloco de código repetidamente enquanto uma condição é verdadeira.\n",
    "\n",
    "**Estrutura básica:**\n",
    "\n",
    "```python\n",
    "while condição:\n",
    "    # Bloco de código\n",
    "\n",
    "```\n",
    "\n",
    "**Exemplo:**"
   ]
  },
  {
   "cell_type": "code",
   "execution_count": 16,
   "metadata": {},
   "outputs": [
    {
     "name": "stdout",
     "output_type": "stream",
     "text": [
      "Contador: 0\n",
      "Contador: 1\n",
      "Contador: 2\n",
      "Contador: 3\n",
      "Contador: 4\n"
     ]
    }
   ],
   "source": [
    "contador = 0\n",
    "while contador < 5:\n",
    "    print(f\"Contador: {contador}\")\n",
    "    contador += 1\n"
   ]
  },
  {
   "cell_type": "markdown",
   "metadata": {},
   "source": [
    "### **2. Loop for**\n",
    "\n",
    "O loop for é usado para iterar sobre elementos de um iterável, como listas, strings ou intervalos (range).\n",
    "\n",
    "**Estrutura básica:**\n",
    "\n",
    "```python\n",
    "for elemento in iterável:\n",
    "    # Bloco de código\n",
    "```\n",
    "\n",
    "**Exemplos:**"
   ]
  },
  {
   "cell_type": "code",
   "execution_count": 17,
   "metadata": {},
   "outputs": [
    {
     "name": "stdout",
     "output_type": "stream",
     "text": [
      "1\n",
      "2\n",
      "3\n",
      "4\n",
      "5\n"
     ]
    }
   ],
   "source": [
    "lista = [1, 2, 3, 4, 5]\n",
    "for numero in lista:\n",
    "    print(numero)\n"
   ]
  },
  {
   "cell_type": "code",
   "execution_count": 18,
   "metadata": {},
   "outputs": [
    {
     "name": "stdout",
     "output_type": "stream",
     "text": [
      "0\n",
      "1\n",
      "2\n",
      "3\n",
      "4\n"
     ]
    }
   ],
   "source": [
    "#Iterando sobre um intervalo\n",
    "for i in range(5):  # Itera de 0 a 4\n",
    "    print(i)\n"
   ]
  },
  {
   "cell_type": "markdown",
   "metadata": {},
   "source": [
    "### **3. Comandos break e continue**\n",
    "* Break: para imediatamente o loop\n",
    "\n",
    "**Exemplo:**"
   ]
  },
  {
   "cell_type": "code",
   "execution_count": 26,
   "metadata": {},
   "outputs": [
    {
     "name": "stdout",
     "output_type": "stream",
     "text": [
      "(0, 1, 2, 3, 4)\n"
     ]
    }
   ],
   "source": [
    "valores = []\n",
    "for i in range(10):\n",
    "    if i == 5:\n",
    "        break  # Sai do loop quando i == 5\n",
    "    valores.append(i)\n",
    "\n",
    "print(tuple(valores))"
   ]
  },
  {
   "cell_type": "markdown",
   "metadata": {},
   "source": [
    "* Continue: pula a execução do restante do bloco\n",
    "\n",
    "**Exemplo:**"
   ]
  },
  {
   "cell_type": "code",
   "execution_count": 33,
   "metadata": {},
   "outputs": [
    {
     "name": "stdout",
     "output_type": "stream",
     "text": [
      "['cachorro', 'gato', 'animal pulado', 'coelho']\n"
     ]
    }
   ],
   "source": [
    "animais = [\"cachorro\", \"gato\", \"macaco\", \"coelho\"]\n",
    "impressos = []\n",
    "\n",
    "for animal in animais:\n",
    "    if animal == \"macaco\":\n",
    "        impressos.append(\"animal pulado\")\n",
    "        continue  # Pula a impressão quando encontrar \"macaco\"\n",
    "    impressos.append(animal)\n",
    "\n",
    "print(impressos)\n"
   ]
  },
  {
   "cell_type": "markdown",
   "metadata": {},
   "source": [
    "### **4. Loops for em duas dimensões**\n",
    "\n",
    "São usados para percorrer estruturas de dados bidimensionais, como matrizes ou listas de listas.\n",
    "\n",
    "**Exemplo básico**"
   ]
  },
  {
   "cell_type": "code",
   "execution_count": 40,
   "metadata": {},
   "outputs": [
    {
     "name": "stdout",
     "output_type": "stream",
     "text": [
      "2 3 4 \n",
      "5 6 7 \n",
      "8 9 10 \n"
     ]
    }
   ],
   "source": [
    "matriz = [\n",
    "    [1, 2, 3],\n",
    "    [4, 5, 6],\n",
    "    [7, 8, 9]\n",
    "]\n",
    "\n",
    "for linha in matriz:\n",
    "    for elemento in linha:\n",
    "        elemento += 1\n",
    "        print(elemento, end=\" \")\n",
    "    print()\n"
   ]
  },
  {
   "cell_type": "code",
   "execution_count": 41,
   "metadata": {},
   "outputs": [
    {
     "name": "stdout",
     "output_type": "stream",
     "text": [
      "[2, 3, 4]\n",
      "[5, 6, 7]\n",
      "[8, 9, 10]\n"
     ]
    }
   ],
   "source": [
    "matriz = [\n",
    "    [1, 2, 3],\n",
    "    [4, 5, 6],\n",
    "    [7, 8, 9]\n",
    "]\n",
    "\n",
    "for linha in matriz:\n",
    "    # Incrementa os valores da linha\n",
    "    for i in range(len(linha)):\n",
    "        linha[i] += 1\n",
    "    print(linha)  # Imprime a linha com colchetes\n"
   ]
  },
  {
   "cell_type": "markdown",
   "metadata": {},
   "source": [
    "### **5.loop de iteração sobre chave-valor**"
   ]
  },
  {
   "cell_type": "code",
   "execution_count": 54,
   "metadata": {},
   "outputs": [
    {
     "name": "stdout",
     "output_type": "stream",
     "text": [
      "Encontramos um réptil! Parando o loop. Animal: Crocodilo\n",
      "Animais percorridos: Leão, Crocodilo\n",
      "Animal pulado: Águia\n"
     ]
    }
   ],
   "source": [
    "# Dicionário de animais com suas categorias\n",
    "animais = {\n",
    "    \"Leão\": \"Mamífero\",\n",
    "    \"Águia\": \"Ave\",\n",
    "    \"Crocodilo\": \"Répteis\",\n",
    "    \"Golfinho\": \"Mamífero\",\n",
    "    \"Pinguim\": \"Ave\",\n",
    "    \"Tartaruga\": \"Répteis\"\n",
    "}\n",
    "\n",
    "# Lista para armazenar os animais percorridos\n",
    "animais_percorridos = []\n",
    "\n",
    "# Loop sobre o dicionário de animais\n",
    "for animal, categoria in animais.items():\n",
    "    # Usando continue para pular os animais da categoria 'Ave'\n",
    "    if categoria == \"Ave\":\n",
    "        AnimalPulado = animal\n",
    "        continue  # Pula a iteração atual e passa para o próximo animal\n",
    "\n",
    "    # Usando break para interromper o loop se encontrar um animal da categoria 'Mamífero'\n",
    "    if categoria == \"Répteis\":\n",
    "        print(f\"Encontramos um réptil! Parando o loop. Animal: {animal}\")\n",
    "        animais_percorridos.append(animal)  # Adiciona o mamífero à lista antes de parar\n",
    "        break  # Interrompe o loop após encontrar o primeiro mamífero\n",
    "    \n",
    "    # Adiciona o animal percorrido na lista\n",
    "    animais_percorridos.append(animal)\n",
    "\n",
    "# Imprime os animais percorridos ao final, separados por vírgula\n",
    "print(\"Animais percorridos:\", \", \".join(animais_percorridos))\n",
    "print(\"Animal pulado:\", AnimalPulado)\n"
   ]
  },
  {
   "cell_type": "markdown",
   "metadata": {},
   "source": [
    "<div style=\"background-color: orange; padding: 10px; border-radius: 5px;\">  \n",
    "\n",
    "---\n",
    "---\n",
    "\n",
    "# <center><b> Built in Data Structures\n",
    "### <center><b>Estruturas de Dados Nativas em Python\n",
    "\n",
    "---\n",
    "---\n",
    "</div>"
   ]
  },
  {
   "cell_type": "markdown",
   "metadata": {},
   "source": [
    "### **1. Listas (list)**  \n",
    "\n",
    "* Estruturas ordenadas e mutáveis.\n",
    "* Operações comuns:\n",
    "    * Adicionar elementos: append, extend.\n",
    "    * Remover elementos: remove, pop.\n",
    "    * Fatiamento (slicing): `list[start:stop:step].`\n",
    "    * Verificar existência: in."
   ]
  },
  {
   "cell_type": "code",
   "execution_count": 3,
   "metadata": {},
   "outputs": [
    {
     "name": "stdout",
     "output_type": "stream",
     "text": [
      "[1, 2, 3]\n",
      "[4, 5, 6, 7]\n",
      "[1, 3, 5, 7]\n",
      "True\n"
     ]
    }
   ],
   "source": [
    "lista = [1, 2, 3, 4]\n",
    "lista.append(5)  # [1, 2, 3, 4, 5]\n",
    "lista.extend([6, 7])  # [1, 2, 3, 4, 5, 6, 7]\n",
    "print(lista[:3])  # Fatiamento: [1, 2, 3]\n",
    "print(lista[3:])  # Fatiamento: [4, 5, 6, 7]\n",
    "print(lista[::2])  # Fatiamento: [1, 3, 5, 7]\n",
    "print(4 in lista)  # Verifica se 4 está na lista: True\n"
   ]
  },
  {
   "cell_type": "markdown",
   "metadata": {},
   "source": [
    "### **2. Tuplas (tuple)**\n",
    "\n",
    "* Estruturas ordenadas e imutáveis.\n",
    "* Operações comuns:\n",
    "    * Acesso por índice.\n",
    "    * Imutabilidade (não pode alterar elementos)."
   ]
  },
  {
   "cell_type": "code",
   "execution_count": 4,
   "metadata": {},
   "outputs": [
    {
     "name": "stdout",
     "output_type": "stream",
     "text": [
      "2\n"
     ]
    }
   ],
   "source": [
    "# Criação e uso\n",
    "tupla = (1, 2, 3, 4)\n",
    "print(tupla[1])  # Acessa o índice 1: 2\n"
   ]
  },
  {
   "cell_type": "markdown",
   "metadata": {},
   "source": [
    "### **3. Conjuntos (set)**\n",
    "\n",
    "* Estruturas não ordenadas, sem duplicatas.\n",
    "* Operações essenciais:\n",
    "    * União: set1 | set2.\n",
    "    * Interseção: set1 & set2.\n",
    "    * Diferença: set1 - set2.\n",
    "    * Adicionar elementos: add.\n",
    "    * Remover elementos: remove."
   ]
  },
  {
   "cell_type": "code",
   "execution_count": 1,
   "metadata": {},
   "outputs": [
    {
     "name": "stdout",
     "output_type": "stream",
     "text": [
      "{1, 2, 3, 4, 5}\n",
      "{3}\n",
      "{1, 2}\n",
      "{1, 2, 3, 6}\n"
     ]
    }
   ],
   "source": [
    "# Operações de conjuntos\n",
    "set1 = {1, 2, 3}\n",
    "set2 = {3, 4, 5}\n",
    "\n",
    "print(set1 | set2)  # União: {1, 2, 3, 4, 5}\n",
    "print(set1 & set2)  # Interseção: {3}\n",
    "print(set1 - set2)  # Diferença: {1, 2}\n",
    "set1.add(6)  # Adiciona 6: {1, 2, 3, 6}\n",
    "print(set1)"
   ]
  },
  {
   "cell_type": "markdown",
   "metadata": {},
   "source": [
    "### **4. Dicionários (dict)**\n",
    "\n",
    "* Estruturas chave-valor.\n",
    "* Operações comuns:\n",
    "    * Acessar valores por chave.\n",
    "    * Adicionar ou atualizar pares chave-valor.\n",
    "    * Iterar sobre chaves, valores ou ambos."
   ]
  },
  {
   "cell_type": "code",
   "execution_count": 7,
   "metadata": {},
   "outputs": [
    {
     "name": "stdout",
     "output_type": "stream",
     "text": [
      "dict_keys(['a', 'b', 'c'])\n",
      "Valor com chave a:  1\n",
      "2\n",
      "Chave não encontrada\n",
      "Chave não encontrada: 'd'\n"
     ]
    }
   ],
   "source": [
    "# Criação e manipulação\n",
    "dicionario = {'a': 1, \n",
    "              'b': 2\n",
    "              }\n",
    "dicionario['c'] = 3  # Adiciona a chave 'c' com valor 3.\n",
    "\n",
    "# Todas as chaves\n",
    "print(dicionario.keys())  # Imprime todas as chaves: dict_keys(['a', 'b', 'c'])\n",
    "\n",
    "# Acesso direto a um valor usando a chave\n",
    "print(\"Valor com chave a: \", dicionario['a']) \n",
    "\n",
    "# Acesso com .get\n",
    "# 1. Quando a chave existe\n",
    "valor_existente = dicionario.get('b', 'Chave não encontrada')\n",
    "print(valor_existente)  # Saída: 2\n",
    "\n",
    "# 2. Quando a chave não existe (valor padrão fornecido)\n",
    "valor_inexistente = dicionario.get('d', 'Chave não encontrada')\n",
    "print(valor_inexistente)  # Saída: Chave não encontrada\n",
    "\n",
    "# Daria para acessar diretamente, através de uma try catch.\n",
    "try:\n",
    "    valor = dicionario[\"d\"]\n",
    "except KeyError as e:\n",
    "    print(f\"Chave não encontrada: {e}\")\n"
   ]
  },
  {
   "cell_type": "markdown",
   "metadata": {},
   "source": [
    "<div style=\"background-color: #fff8e1; padding: 5px; border-radius: 8px; margin-top: 10px; border: 1px solid black;\">\n",
    "\n",
    "## <center><b><u>Exercícios</u></b></center>\n",
    "\n",
    "</div>\n"
   ]
  },
  {
   "cell_type": "markdown",
   "metadata": {},
   "source": [
    "### 1. Intersecção:"
   ]
  },
  {
   "cell_type": "code",
   "execution_count": 7,
   "metadata": {},
   "outputs": [
    {
     "name": "stdout",
     "output_type": "stream",
     "text": [
      "{3}\n"
     ]
    }
   ],
   "source": [
    "lista1 = [1, 2, 3]\n",
    "lista2 = [3, 4, 5]\n",
    "print(set(lista1) & set(lista2))  # Resultado esperado: {3}\n"
   ]
  },
  {
   "cell_type": "markdown",
   "metadata": {},
   "source": [
    "### 2. Or Exclusivo (XOR) ou Diferença Simétrica de Conjuntos"
   ]
  },
  {
   "cell_type": "code",
   "execution_count": 9,
   "metadata": {},
   "outputs": [
    {
     "name": "stdout",
     "output_type": "stream",
     "text": [
      "{1, 2, 4, 5}\n"
     ]
    }
   ],
   "source": [
    "set1 = {1, 2, 3}\n",
    "set2 = {3, 4, 5}\n",
    "print(set1 ^ set2)  # Elementos exclusivos: {1, 2, 4, 5}\n"
   ]
  },
  {
   "cell_type": "markdown",
   "metadata": {},
   "source": [
    "### 3. Recorrência de um elemento armazenado em um dicionário."
   ]
  },
  {
   "cell_type": "code",
   "execution_count": 14,
   "metadata": {},
   "outputs": [
    {
     "name": "stdout",
     "output_type": "stream",
     "text": [
      "{1: 1, 2: 3, 3: 2}\n"
     ]
    }
   ],
   "source": [
    "lista = [1, 2, 2, 2, 3, 3]\n",
    "contagem = {}\n",
    "for item in lista:\n",
    "    contagem[item] = contagem.get(item, 0) + 1 # Obtem o valor da chave(.get), que ele chamou de item, se não existir, \n",
    "                                               # retorna 0. Depois incrementa 1.\n",
    "\n",
    "\n",
    "\"\"\"\n",
    "# Iterar pelo dicionário e imprimir cada chave-valor\n",
    "for chave, valor in contagem.items():\n",
    "    print(f\"{chave}: {valor}\")\n",
    "\"\"\"\n",
    "print(contagem) "
   ]
  },
  {
   "cell_type": "markdown",
   "metadata": {},
   "source": [
    "Print personalizado"
   ]
  },
  {
   "cell_type": "code",
   "execution_count": 43,
   "metadata": {},
   "outputs": [
    {
     "name": "stdout",
     "output_type": "stream",
     "text": [
      "1: 1\n",
      "2: 3\n",
      "3: 2\n"
     ]
    }
   ],
   "source": [
    "for a, b in contagem.items():\n",
    "    print(f\"{a}: {b}\")"
   ]
  },
  {
   "cell_type": "code",
   "execution_count": 15,
   "metadata": {},
   "outputs": [
    {
     "name": "stdout",
     "output_type": "stream",
     "text": [
      "dict_items([(1, 1), (2, 3), (3, 2)])\n"
     ]
    }
   ],
   "source": [
    "print(contagem.items())"
   ]
  },
  {
   "cell_type": "markdown",
   "metadata": {},
   "source": [
    "### 4. Dado duas listas, verificar se há elementos em comum"
   ]
  },
  {
   "cell_type": "code",
   "execution_count": 36,
   "metadata": {},
   "outputs": [
    {
     "name": "stdout",
     "output_type": "stream",
     "text": [
      "Há elementos em comum: {2, 3}\n",
      "2\n"
     ]
    }
   ],
   "source": [
    "l1 = [1, 2, 3]\n",
    "l2 = [2, 3, 4]\n",
    "\n",
    "# Convertendo as listas em conjuntos e verificando a interseção\n",
    "comum = set(l1) & set(l2) # Não pode ser o AND, pois o & realiza operação de interseção entre conjuntos.\n",
    "\n",
    "if comum:\n",
    "    print(f\"Há elementos em comum: {comum}\")\n",
    "else:\n",
    "    print(\"Não há elementos em comum.\")\n",
    "\n",
    "print(len(comum))  # Número de elementos em comum\n"
   ]
  },
  {
   "cell_type": "code",
   "execution_count": 32,
   "metadata": {},
   "outputs": [
    {
     "name": "stdout",
     "output_type": "stream",
     "text": [
      "Há elementos em comum: 2\n"
     ]
    }
   ],
   "source": [
    "l1 = [1, 2, 3]\n",
    "l2 = [2, 3, 4]\n",
    "\n",
    "# Usando loop\n",
    "for elemento in l1:\n",
    "    if elemento in l2:\n",
    "        print(f\"Há elementos em comum: {elemento}\")\n",
    "        break\n",
    "else:\n",
    "    print(\"Não há elementos em comum.\")\n"
   ]
  },
  {
   "cell_type": "code",
   "execution_count": 35,
   "metadata": {},
   "outputs": [
    {
     "name": "stdout",
     "output_type": "stream",
     "text": [
      "Há elementos em comum: [2, 3]\n"
     ]
    }
   ],
   "source": [
    "l1 = [1, 2, 3]\n",
    "l2 = [2, 3, 4]\n",
    "\n",
    "comum = [elemento for elemento in l1 if elemento in l2] # Para cada elemento em l1, se o elemento estiver em l2, adicione-o à lista comum.\n",
    "if comum:\n",
    "    print(f\"Há elementos em comum: {comum}\")\n",
    "else:\n",
    "    print(\"Não há elementos em comum.\")\n"
   ]
  },
  {
   "cell_type": "code",
   "execution_count": 26,
   "metadata": {},
   "outputs": [
    {
     "name": "stdout",
     "output_type": "stream",
     "text": [
      "Há elementos em comum.\n"
     ]
    }
   ],
   "source": [
    "l1 = [1, 2, 3]\n",
    "l2 = [2, 3, 4]\n",
    "\n",
    "# Usando any\n",
    "if any(elemento in l2 for elemento in l1):\n",
    "    print(\"Há elementos em comum.\")\n",
    "else:\n",
    "    print(\"Não há elementos em comum.\")\n"
   ]
  },
  {
   "cell_type": "markdown",
   "metadata": {},
   "source": [
    "<div style=\"background-color: orange; padding: 10px; border-radius: 5px;\">\n",
    "\n",
    "---\n",
    "---\n",
    "\n",
    "# <center><b>Curto-Circuito e Operadores Lógicos</b></center>\n",
    "### <center><b>And, Or, &, |</b></center>\n",
    "\n",
    "---\n",
    "---\n",
    "\n",
    "</div>"
   ]
  },
  {
   "cell_type": "markdown",
   "metadata": {},
   "source": [
    "## <b> O que é curto-circuito? </b>\n",
    "\n",
    "O curto-circuito ocorre quando uma expressão lógica é avaliada apenas até o ponto em que o resultado é conhecido, evitando a avaliação desnecessária do restante da expressão.\n",
    "\n",
    "## <b>Curto-circuito em Python:</b>\n",
    "\n",
    "* and (equivalente a && em Java):\n",
    "    * Avalia para False assim que encontra o primeiro valor falso.\n",
    "    * Exemplo:"
   ]
  },
  {
   "cell_type": "code",
   "execution_count": 46,
   "metadata": {},
   "outputs": [],
   "source": [
    "x = 0\n",
    "if x != 0 and 10 / x > 1 > 10 :  # O lado direito não é avaliado, por isso nem gerou exceção.\n",
    "    print(\"Nunca será executado\")\n",
    "\n",
    "# Perceba que como a primeira já foi igual a FALSE, não foi necessário nem avaliar o segundo, pois como temos uma operação e, todos deveriam ser TRUE."
   ]
  },
  {
   "cell_type": "markdown",
   "metadata": {},
   "source": [
    "* or (equivalente a || em Java):\n",
    "\n",
    "    * Avalia para True assim que encontra o primeiro valor verdadeiro.\n",
    "    * Exemplo:"
   ]
  },
  {
   "cell_type": "code",
   "execution_count": 47,
   "metadata": {},
   "outputs": [
    {
     "name": "stdout",
     "output_type": "stream",
     "text": [
      "Será executado sem erros\n"
     ]
    }
   ],
   "source": [
    "x = 0\n",
    "if x == 0 or 10 / x > 1:  # O lado direito não é avaliado\n",
    "    print(\"Será executado sem erros\")\n"
   ]
  },
  {
   "cell_type": "markdown",
   "metadata": {},
   "source": [
    "## <b>Comportamento de retorno dos operadores lógicos em Python</b>\n",
    "\n",
    "Diferentemente de Java, que retorna apenas valores booleanos (true ou false), em Python, os operadores and e or retornam o último valor **<u>necessariamente</u>** avaliado.  \n",
    "\n",
    "**Exemplo prático:**"
   ]
  },
  {
   "cell_type": "code",
   "execution_count": 49,
   "metadata": {},
   "outputs": [
    {
     "name": "stdout",
     "output_type": "stream",
     "text": [
      "0\n"
     ]
    }
   ],
   "source": [
    "# AND\n",
    "a = 0\n",
    "b = 10\n",
    "result = a and b  # Retorna a (0) porque é o primeiro valor falso\n",
    "print(result)  \n"
   ]
  },
  {
   "cell_type": "code",
   "execution_count": 50,
   "metadata": {},
   "outputs": [
    {
     "name": "stdout",
     "output_type": "stream",
     "text": [
      "10\n"
     ]
    }
   ],
   "source": [
    "# OR\n",
    "a = 0\n",
    "b = 10\n",
    "result = a or b  # Retorna b (10) porque é o primeiro valor verdadeiro\n",
    "print(result)  "
   ]
  },
  {
   "cell_type": "markdown",
   "metadata": {},
   "source": [
    "## <b>AND e OR bitwise </b>\n",
    "\n",
    "Sempre avaliam todos os operandos. Esses operadores, no entanto, são projetados para operar principalmente sobre números inteiros (em nível de bits), mas também funcionam com valores booleanos.\n",
    "\n",
    "### **Diferenças entre and/or e &/|**\n",
    "\n",
    "* and e or:\n",
    "    * São operadores lógicos.\n",
    "    * Avaliam expressões como True ou False.\n",
    "    * Seguem o curto-circuito (param curtar a avaliação quando o resultado é conhecido).\n",
    "\n",
    "* & e |:\n",
    "    * São operadores bitwise.\n",
    "    * Operam diretamente no nível dos bits de números inteiros.\n",
    "    * Avaliam todos os operandos, sem curto-circuito.\n",
    "    * Também podem ser usados para lógica booleana.\n",
    "\n",
    "### **Comportamento com valores booleanos**\n",
    "\n",
    "Quando usados com valores booleanos, & e | funcionam como operadores lógicos sem curto-circuito.\n",
    "\n",
    "**Exemplo:**"
   ]
  },
  {
   "cell_type": "code",
   "execution_count": 53,
   "metadata": {},
   "outputs": [
    {
     "name": "stdout",
     "output_type": "stream",
     "text": [
      "False\n",
      "True\n",
      "False\n",
      "True\n"
     ]
    }
   ],
   "source": [
    "x = True\n",
    "y = False\n",
    "\n",
    "\n",
    "# Lógicos com curto-circuito\n",
    "print(x and y and 10/0 > 1)  # Saída: False (interrompe ao encontrar False em y, por isso nem gera exceção)\n",
    "print(x or y or 2/0 > 1)   # Saída: True (interrompe ao encontrar True em x, por isso nem gera exceção)\n",
    "\n",
    "# Bitwise sem curto-circuito\n",
    "print(x & y)    # Saída: False (avalia ambos operandos)\n",
    "print(x | y)    # Saída: True (avalia ambos operandos)\n"
   ]
  },
  {
   "cell_type": "markdown",
   "metadata": {},
   "source": [
    "### **Comportamento com números inteiros**\n",
    "\n",
    "Com números inteiros, & e | realizam operações bitwise (no nível de bits).\n",
    "\n",
    "**Exemplo:**"
   ]
  },
  {
   "cell_type": "code",
   "execution_count": 55,
   "metadata": {},
   "outputs": [
    {
     "name": "stdout",
     "output_type": "stream",
     "text": [
      "0b1001\n",
      "0b1101\n"
     ]
    }
   ],
   "source": [
    "a = 0b1101  # 13 em binário\n",
    "b = 0b1001  # 11 em binário\n",
    "\n",
    "# AND bitwise\n",
    "print(bin(a & b))  # Saída: 0b1001 (analisa a e b bit a bit, comparando cada um deles e retornando 1 se ambos forem 1)\n",
    "\n",
    "# OR bitwise\n",
    "print(bin(a | b))  # Saída: 0b1111 (bits 1 em a ou b resultam em 1)\n"
   ]
  },
  {
   "cell_type": "markdown",
   "metadata": {},
   "source": [
    "### <b>Por que no exemplo abaixo não utilizamos o AND na atribuição da lista `comum`?"
   ]
  },
  {
   "cell_type": "code",
   "execution_count": 61,
   "metadata": {},
   "outputs": [
    {
     "name": "stdout",
     "output_type": "stream",
     "text": [
      "Há elementos em comum: {3}\n"
     ]
    }
   ],
   "source": [
    "l1 = [1, 2, 3]\n",
    "l2 = [3, 4, 5]\n",
    "\n",
    "# Convertendo as listas em conjuntos e verificando a interseção\n",
    "comum = set(l1) & set(l2)\n",
    "\n",
    "if comum:\n",
    "    print(f\"Há elementos em comum: {comum}\")\n",
    "else:\n",
    "    print(\"Não há elementos em comum.\")"
   ]
  },
  {
   "cell_type": "markdown",
   "metadata": {},
   "source": [
    "**Porque o AND retornaria o primeiro valor falso, já que é um e lógico, e o que queremos é ver se há intersecção entre os conjuntos, ou seja, avaliar cada elemento em l1, comparar com cada elemento em l2 e devolver os repetidos, caso existam**\n",
    "\n",
    "### **Observe abaixo o erro <u>semântico</u> gerado quando usamos o operador AND**"
   ]
  },
  {
   "cell_type": "code",
   "execution_count": null,
   "metadata": {},
   "outputs": [
    {
     "name": "stdout",
     "output_type": "stream",
     "text": [
      "Há elementos em comum: {3, 4, 5}\n"
     ]
    }
   ],
   "source": [
    "l1 = [1, 2, 3]\n",
    "l2 = [3, 4, 5]\n",
    "\n",
    "# Convertendo as listas em conjuntos e verificando a interseção\n",
    "comum = set(l1) and set(l2)\n",
    "\n",
    "if comum:\n",
    "    print(f\"Há elementos em comum: {comum}\")\n",
    "else:\n",
    "    print(\"Não há elementos em comum.\")\n",
    "\n",
    "# O valor de set(l2) é True, mas como o and retorna o ultimo avaliado, ele retorna set(l2). Perceba que o ultimo necessario correspondeu à ultima condição porque\n",
    "# a primeira foi true. Se a primeira fosse false, ele retornaria a primeira."
   ]
  }
 ],
 "metadata": {
  "kernelspec": {
   "display_name": "env",
   "language": "python",
   "name": "python3"
  },
  "language_info": {
   "codemirror_mode": {
    "name": "ipython",
    "version": 3
   },
   "file_extension": ".py",
   "mimetype": "text/x-python",
   "name": "python",
   "nbconvert_exporter": "python",
   "pygments_lexer": "ipython3",
   "version": "3.12.3"
  }
 },
 "nbformat": 4,
 "nbformat_minor": 2
}
